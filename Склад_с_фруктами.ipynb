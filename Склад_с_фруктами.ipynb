{
  "nbformat": 4,
  "nbformat_minor": 0,
  "metadata": {
    "colab": {
      "provenance": [],
      "authorship_tag": "ABX9TyOvwvhT2e7PUH25w35Lp5eb",
      "include_colab_link": true
    },
    "kernelspec": {
      "name": "python3",
      "display_name": "Python 3"
    },
    "language_info": {
      "name": "python"
    }
  },
  "cells": [
    {
      "cell_type": "markdown",
      "metadata": {
        "id": "view-in-github",
        "colab_type": "text"
      },
      "source": [
        "<a href=\"https://colab.research.google.com/github/rozhevadimev/pythonGeekanalitic/blob/main/%D0%A1%D0%BA%D0%BB%D0%B0%D0%B4_%D1%81_%D1%84%D1%80%D1%83%D0%BA%D1%82%D0%B0%D0%BC%D0%B8.ipynb\" target=\"_parent\"><img src=\"https://colab.research.google.com/assets/colab-badge.svg\" alt=\"Open In Colab\"/></a>"
      ]
    },
    {
      "cell_type": "markdown",
      "source": [
        "На складе лежат разные фрукты в разном количестве.\n",
        "Нужно написать функцию total_fruits, которая на вход принимает любое количество названий фруктов и их количество, а возвращает общее количество фруктов на складе.\n",
        "\n",
        "можно решить через *kwargs"
      ],
      "metadata": {
        "id": "_6erJDfkskc_"
      }
    },
    {
      "cell_type": "code",
      "source": [
        "def total_fruits(**kwargs):\n",
        "\n",
        "    total_fruits = sum(kwargs.values())\n",
        "\n",
        "    return f'Totalfruits: {total_fruits}'\n",
        "\n",
        "print(total_fruits(apples=10, bananas=5, oranges=8))"
      ],
      "metadata": {
        "id": "qOMcJMhvsq6c"
      },
      "execution_count": null,
      "outputs": []
    }
  ]
}