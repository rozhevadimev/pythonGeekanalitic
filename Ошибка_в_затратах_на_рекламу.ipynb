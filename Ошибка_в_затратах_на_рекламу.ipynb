{
  "nbformat": 4,
  "nbformat_minor": 0,
  "metadata": {
    "colab": {
      "provenance": [],
      "authorship_tag": "ABX9TyOtk+2JwxHhbs1LLIaigDla",
      "include_colab_link": true
    },
    "kernelspec": {
      "name": "python3",
      "display_name": "Python 3"
    },
    "language_info": {
      "name": "python"
    }
  },
  "cells": [
    {
      "cell_type": "markdown",
      "metadata": {
        "id": "view-in-github",
        "colab_type": "text"
      },
      "source": [
        "<a href=\"https://colab.research.google.com/github/rozhevadimev/pythonGeekanalitic/blob/main/%D0%9E%D1%88%D0%B8%D0%B1%D0%BA%D0%B0_%D0%B2_%D0%B7%D0%B0%D1%82%D1%80%D0%B0%D1%82%D0%B0%D1%85_%D0%BD%D0%B0_%D1%80%D0%B5%D0%BA%D0%BB%D0%B0%D0%BC%D1%83.ipynb\" target=\"_parent\"><img src=\"https://colab.research.google.com/assets/colab-badge.svg\" alt=\"Open In Colab\"/></a>"
      ]
    },
    {
      "cell_type": "markdown",
      "source": [],
      "metadata": {
        "id": "BpiHFwcvyKg2"
      }
    },
    {
      "cell_type": "markdown",
      "source": [
        "Дан список adv с затратами на рекламу.\n",
        "Но в данных есть ошибки, некоторые затраты имеют отрицательную величину.\n",
        "Удалите такие значения из списка и посчитайте суммарные затраты.\n",
        "Запишите их в переменную x.\n",
        "Используйте list comprehensions."
      ],
      "metadata": {
        "id": "B7NmGcRuyMEX"
      }
    },
    {
      "cell_type": "code",
      "source": [
        "[100, 125, -90, 345, 655, -1, 0, 200]\n",
        "[100, 125, -90, 345, 655, -1, 0, 200]\n",
        "def expenses(data: list):\n",
        "\n",
        "    new_data = []\n",
        "\n",
        "    for i in data:\n",
        "        if i > 0:\n",
        "            new_data.append(i)\n",
        "\n",
        "    print(new_data)\n",
        "    print(f'Total expenses: {sum(new_data)}')\n",
        "data = [100, 125, -90, 345, 655, -1, 0, 200]\n",
        "\n",
        "expenses(data)"
      ],
      "metadata": {
        "id": "yHZ1m7PIyvYO"
      },
      "execution_count": null,
      "outputs": []
    }
  ]
}